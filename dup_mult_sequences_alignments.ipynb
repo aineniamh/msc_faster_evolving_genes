{
 "cells": [
  {
   "cell_type": "code",
   "execution_count": 9,
   "metadata": {
    "collapsed": false
   },
   "outputs": [
    {
     "data": {
      "text/plain": [
       "'/Users/otoolea2/Documents/phd'"
      ]
     },
     "execution_count": 9,
     "metadata": {},
     "output_type": "execute_result"
    }
   ],
   "source": [
    "import re\n",
    "import collections\n",
    "from Bio import SeqIO\n",
    "import os\n",
    "from ete3 import Tree \n",
    "os.chdir('/Users/otoolea2/Documents/phd')\n",
    "os.getcwd()"
   ]
  },
  {
   "cell_type": "code",
   "execution_count": 2,
   "metadata": {
    "collapsed": false
   },
   "outputs": [
    {
     "name": "stdout",
     "output_type": "stream",
     "text": [
      "226258\n"
     ]
    }
   ],
   "source": [
    "translator_dict = {}\n",
    "for my_sp in ['mac', 'gib', 'pongo', 'gorilla', 'chimp', 'homo']:\n",
    "    with open('gid_tid_pid/'+my_sp+'_gid_tid_pid.txt','r') as f:\n",
    "        for l in f:\n",
    "            l = l.rstrip('\\n')\n",
    "            tokens = l.split(',')\n",
    "            if tokens[2] != '':\n",
    "                translator_dict[tokens[2]] = tokens[1]\n",
    "print len(translator_dict)"
   ]
  },
  {
   "cell_type": "code",
   "execution_count": 11,
   "metadata": {
    "collapsed": false
   },
   "outputs": [
    {
     "name": "stdout",
     "output_type": "stream",
     "text": [
      "finished sing1 0\n",
      "finished sing2\n",
      "finished sing3\n"
     ]
    }
   ],
   "source": [
    "import subprocess\n",
    "\n",
    "indir = 'duplicability/msa_files/new_dup/'\n",
    "for r, d, f in os.walk(indir):\n",
    "    for my_file in f:\n",
    "        if my_file.endswith('.fa'):\n",
    "            if my_file.startswith('pro'):\n",
    "                subprocess.call(['muscle', '-in', r + '/'+ my_file, '-out', r + '/muscle_alignment.fa'])\n",
    "                #cd += 1\n",
    "\n",
    "indir = 'duplicability/msa_files/sing1/'\n",
    "s1 = 0\n",
    "for r, d, f in os.walk(indir):\n",
    "    for my_file in f:\n",
    "        if my_file.endswith('.fa'):\n",
    "            if my_file.startswith('pro'):\n",
    "                #print r + '/' + my_file\n",
    "                subprocess.call(['muscle', '-in', r + '/'+ my_file, '-out', r + '/muscle_alignment.fa'])  \n",
    "                #s1 += 1\n",
    "                \n",
    "print('finished sing1 '  + str(s1))  \n",
    "\n",
    "\n",
    "indir = 'duplicability/msa_files/sing2/'\n",
    "for r, d, f in os.walk(indir):\n",
    "    for my_file in f:\n",
    "        if my_file.endswith('.fa'):\n",
    "            if my_file.startswith('pro'):\n",
    "                subprocess.call(['muscle', '-in', r + '/'+ my_file, '-out', r + '/muscle_alignment.fa'])\n",
    "                \n",
    "print('finished sing2')                \n",
    "                \n",
    "indir = 'duplicability/msa_files/sing3/'\n",
    "for r, d, f in os.walk(indir):\n",
    "    for my_file in f:\n",
    "        if my_file.endswith('.fa'):\n",
    "            if my_file.startswith('pro'):\n",
    "                subprocess.call(['muscle', '-in', r + '/'+ my_file, '-out', r + '/muscle_alignment.fa']) \n",
    "                \n",
    "print('finished sing3')                \n"
   ]
  },
  {
   "cell_type": "code",
   "execution_count": 3,
   "metadata": {
    "collapsed": false
   },
   "outputs": [
    {
     "name": "stdout",
     "output_type": "stream",
     "text": [
      "226258\n",
      "error with ENSP00000489519\n",
      "0\n"
     ]
    }
   ],
   "source": [
    "import os\n",
    "import requests, sys\n",
    "import re\n",
    "from Bio import SeqIO\n",
    "translator_dict = {}\n",
    "\n",
    "for my_file in ['gib','mac', 'pongo','gorilla','chimp','homo']:\n",
    "    with open('gid_tid_pid/'+ my_file + '_gid_tid_pid.txt','r') as f:\n",
    "        for l in f:\n",
    "            l = l.rstrip('\\n')\n",
    "            tokens = l.split(',')\n",
    "            if tokens[2] != '':\n",
    "                translator_dict[tokens[2]] = tokens[1]\n",
    "print len(translator_dict)\n",
    "\n",
    "server = \"http://rest.ensembl.org\"\n",
    "ext = \"/sequence/id/\"\n",
    "\n",
    "rootDir = './'\n",
    "g = os.walk(rootDir)\n",
    "dup_alignments = []\n",
    "sing_alignments = [] \n",
    "c =0\n",
    "for root, direct, files in g:\n",
    "    if len(files) >= 2:\n",
    "        my_requests = {}\n",
    "        if os.path.exists(root+'/'+'tester_dup_file.txt'):\n",
    "\n",
    "            for item in files:\n",
    "                if item.endswith('protein_seqs.fa'):\n",
    "                    \n",
    "                    with open(root + '/' +item) as f_a:\n",
    "                        for l in f_a:\n",
    "                            if l.startswith('>'):\n",
    "                                my_id = l.lstrip('>').rstrip('\\n')\n",
    "                                if my_id in translator_dict:\n",
    "                                    my_id_a = translator_dict[my_id]\n",
    "                                else:\n",
    "                                    print 'error with ' + str(my_id)\n",
    "                                #print my_id, my_id_a\n",
    "                                r_a = requests.get(server+ext+my_id_a+\"?type=cds\", headers={ \"Content-Type\" : \"text/x-fasta\"})\n",
    "                                #print r_a.text\n",
    "                                if not r_a.ok:\n",
    "                                    continue\n",
    "                                    c+=1\n",
    "                                    r_a.raise_for_status()\n",
    "                                    sys.exit()\n",
    "                                i = re.search(\"\\n\",r_a.text).start()    \n",
    "                                \n",
    "                            \n",
    "                                if r_a.text[-4:-1] in ['TAA','TGA','TAG']:\n",
    "                                    my_requests[my_id] = '>' + my_id + r_a.text[i:-4] + '\\n'\n",
    "                                else:\n",
    "                                    my_requests[my_id] = '>' + my_id + r_a.text[i:] + '\\n'\n",
    "\n",
    "            \n",
    "            f = open(root + '/' + 'nuc_seq.fa', 'w')\n",
    "            \n",
    "            if len(my_requests) > 2:\n",
    "                for key in my_requests.keys():\n",
    "                    f.write(str(my_requests[key]) + '\\n')\n",
    "            f.close()\n",
    "print c            "
   ]
  },
  {
   "cell_type": "code",
   "execution_count": 4,
   "metadata": {
    "collapsed": false
   },
   "outputs": [
    {
     "name": "stdout",
     "output_type": "stream",
     "text": [
      "0 0\n"
     ]
    }
   ],
   "source": [
    "server = \"http://rest.ensembl.org\"\n",
    "ext = \"/sequence/id/\"\n",
    "\n",
    "rootDir = './'\n",
    "g = os.walk(rootDir)\n",
    "dup_alignments = []\n",
    "sing_alignments = [] \n",
    "c =0\n",
    "ce = 0\n",
    "for root, direct, files in g:\n",
    "    if len(files) >= 2:\n",
    "        my_requests = {}\n",
    "        if os.path.exists(root+'/'+'tester_sing_file.txt'):\n",
    "\n",
    "            for item in files:\n",
    "                if item.endswith('protein_seqs.fa'):\n",
    "                    \n",
    "                    with open(root + '/' +item) as f_a:\n",
    "                        for l in f_a:\n",
    "                            if l.startswith('>'):\n",
    "                                my_id = l.lstrip('>').rstrip('\\n')\n",
    "                                if my_id in translator_dict:\n",
    "                                    my_id_a = translator_dict[my_id]\n",
    "                                else:\n",
    "                                    print 'error with ' + str(my_id)\n",
    "                                    ce+=1\n",
    "                                #print my_id, my_id_a\n",
    "                                r_a = requests.get(server+ext+my_id_a+\"?type=cds\", headers={ \"Content-Type\" : \"text/x-fasta\"})\n",
    "                                #print r_a.text\n",
    "                                if not r_a.ok:\n",
    "                                    continue\n",
    "                                    c+=1\n",
    "                                    r_a.raise_for_status()\n",
    "                                    sys.exit()\n",
    "                                i = re.search(\"\\n\",r_a.text).start()    \n",
    "                                \n",
    "                            \n",
    "                                if r_a.text[-4:-1] in ['TAA','TGA','TAG']:\n",
    "                                    my_requests[my_id] = '>' + my_id + r_a.text[i:-4] + '\\n'\n",
    "                                else:\n",
    "                                    my_requests[my_id] = '>' + my_id + r_a.text[i:] + '\\n'\n",
    "\n",
    "            \n",
    "            f = open(root + '/' + 'nuc_seq.fa', 'w')\n",
    "            \n",
    "            if len(my_requests) > 2:\n",
    "                for key in my_requests.keys():\n",
    "                    f.write(str(my_requests[key]) + '\\n')\n",
    "            f.close()\n",
    "print c, ce   "
   ]
  },
  {
   "cell_type": "code",
   "execution_count": 9,
   "metadata": {
    "collapsed": false
   },
   "outputs": [],
   "source": [
    "from Bio import SeqIO\n",
    "\n",
    "indir = 'duplicability/msa_files/new_dup/'\n",
    "for r, d, f in os.walk(indir):\n",
    "    for my_file in f:\n",
    "        if my_file.endswith('.fa'):\n",
    "            if my_file.startswith('pro'):\n",
    "                handle = open(r+'/protein_seqs.fa','rU')\n",
    "                proteins = {seq_record.id : len(seq_record.seq) for seq_record in SeqIO.parse(handle,\"fasta\")}\n",
    "                handle.close()\n",
    "                handle = open(r+'/nuc_seq.fa','rU')\n",
    "                nuc = {seq_record.id : len(seq_record.seq) for seq_record in SeqIO.parse(handle,\"fasta\")}\n",
    "                handle.close()\n",
    "                for key in proteins:\n",
    "                    if (3*proteins[key]) != (nuc[key]):\n",
    "                        print r, key, proteins[key], nuc[key]\n",
    "                        "
   ]
  },
  {
   "cell_type": "code",
   "execution_count": 10,
   "metadata": {
    "collapsed": false
   },
   "outputs": [],
   "source": [
    "from Bio import SeqIO\n",
    "\n",
    "indir = 'duplicability/msa_files/sing/'\n",
    "for r, d, f in os.walk(indir):\n",
    "    for my_file in f:\n",
    "        if my_file.endswith('.fa'):\n",
    "            if my_file.startswith('pro'):\n",
    "                handle = open(r+'/protein_seqs.fa','rU')\n",
    "                proteins = {seq_record.id : len(seq_record.seq) for seq_record in SeqIO.parse(handle,\"fasta\")}\n",
    "                handle.close()\n",
    "                handle = open(r+'/nuc_seq.fa','rU')\n",
    "                nuc = {seq_record.id : len(seq_record.seq) for seq_record in SeqIO.parse(handle,\"fasta\")}\n",
    "                handle.close()\n",
    "                for key in proteins:\n",
    "                    if (3*proteins[key]) != (nuc[key]):\n",
    "                        print r, key, proteins[key], nuc[key]"
   ]
  },
  {
   "cell_type": "code",
   "execution_count": 12,
   "metadata": {
    "collapsed": false
   },
   "outputs": [
    {
     "name": "stdout",
     "output_type": "stream",
     "text": [
      "0\n"
     ]
    }
   ],
   "source": [
    "import os\n",
    "import subprocess\n",
    " \n",
    "rootDir = './'\n",
    "g = os.walk(rootDir)\n",
    "c=0\n",
    "c2=0\n",
    "for r, d, f in g:\n",
    "    if os.path.exists(r+'/'+'muscle_alignment.fa'):\n",
    "        #print(f)\n",
    "        #print(os.path.exists(r+'/'+'needle.fa'))\n",
    "        retcode = subprocess.call(['/Users/otoolea2/Documents/phd/Scripts/scripts_duplicability/translatorx_vLocal.pl','-i',r + '/nuc_seq.fa','-a',r + '/muscle_alignment.fa','-o',r + '/muscle_translatorx_res.nt_ali.fa'])\n",
    "        if retcode != 0:\n",
    "            print retcode\n",
    "            print r\n",
    "            c+=1\n",
    "#     if os.path.exists(r + '/'+'tester_sing_file.txt'):\n",
    "#         retcode = subprocess.call(['/Users/otoolea2/Documents/phd/Scripts/scripts_duplicability/translatorx_vLocal.pl','-i',r + '/nuc_seq.fa','-a',r + '/muscle_alignment.fa','-o',r + '/muscle_translatorx_res.nt_ali.fa'])\n",
    "#         if retcode != 0:\n",
    "#             print retcode\n",
    "#             print r\n",
    "#             c2+=1\n",
    "print c"
   ]
  },
  {
   "cell_type": "code",
   "execution_count": null,
   "metadata": {
    "collapsed": true
   },
   "outputs": [],
   "source": []
  },
  {
   "cell_type": "code",
   "execution_count": null,
   "metadata": {
    "collapsed": true
   },
   "outputs": [],
   "source": []
  }
 ],
 "metadata": {
  "anaconda-cloud": {},
  "kernelspec": {
   "display_name": "Python 2",
   "language": "python",
   "name": "python2"
  },
  "language_info": {
   "codemirror_mode": {
    "name": "ipython",
    "version": 2
   },
   "file_extension": ".py",
   "mimetype": "text/x-python",
   "name": "python",
   "nbconvert_exporter": "python",
   "pygments_lexer": "ipython2",
   "version": "2.7.13"
  }
 },
 "nbformat": 4,
 "nbformat_minor": 0
}
